{
 "cells": [
  {
   "cell_type": "markdown",
   "metadata": {},
   "source": [
    "# Hierarchical DivNoising - Prediction\n",
    "This notebook contains an example on how to use a previously trained Hierarchical DivNoising model to denoise images.\n",
    "If you haven't done so please first run '1-train_noise_model.ipynb' and '2-train_denoisers.ipynb' notebooks."
   ]
  },
  {
   "cell_type": "code",
   "execution_count": 1,
   "metadata": {},
   "outputs": [],
   "source": [
    "import os\n",
    "\n",
    "import torch\n",
    "import tifffile\n",
    "import numpy as np\n",
    "import matplotlib.pyplot as plt\n",
    "from tqdm import tqdm\n",
    "\n",
    "from backbone import Backbone\n",
    "from hdn.lib.utils import PSNR"
   ]
  },
  {
   "cell_type": "code",
   "execution_count": null,
   "metadata": {},
   "outputs": [],
   "source": [
    "use_cuda = torch.cuda.is_available()\n",
    "device = torch.device(\"cuda\" if use_cuda else \"cpu\")"
   ]
  },
  {
   "cell_type": "markdown",
   "metadata": {},
   "source": [
    "# Load noisy test data\n",
    "The GT test data (```signal```) is created by averaging the noisy images (```observations```)."
   ]
  },
  {
   "cell_type": "code",
   "execution_count": null,
   "metadata": {},
   "outputs": [],
   "source": [
    "path = \"./data/Convallaria_diaphragm/\"\n",
    "\n",
    "# The test data is just one quater of the full image ([:,:512,:512]) following the works which have used this data earlier\n",
    "observation = tifffile.imread(\n",
    "    path + \"20190520_tl_25um_50msec_05pc_488_130EM_Conv.tif\"\n",
    ").astype(np.float32)[:, np.newaxis, :512, :512]\n",
    "signal = np.mean(observation[:, ...], axis=0, keepdims=True).repeat(\n",
    "    observation.shape[0], axis=0\n",
    ")\n",
    "img_width, img_height = signal.shape[1], signal.shape[2]\n",
    "\n",
    "plt.figure(figsize=(15, 5))\n",
    "plt.imshow(signal[0, 0], cmap=\"magma\")"
   ]
  },
  {
   "cell_type": "markdown",
   "metadata": {},
   "source": [
    "# Load our model"
   ]
  },
  {
   "cell_type": "code",
   "execution_count": null,
   "metadata": {},
   "outputs": [],
   "source": [
    "model_name = \"convallaria\"\n",
    "checkpoint_path = os.path.join(\"checkpoints\", model_name)\n",
    "\n",
    "backbone = Backbone.load_from_checkpoint(os.path.join(checkpoint_path, \"final_model.ckpt\"))"
   ]
  },
  {
   "cell_type": "markdown",
   "metadata": {},
   "source": [
    "# Carry out inference"
   ]
  },
  {
   "cell_type": "markdown",
   "metadata": {},
   "source": [
    "In this cell we use the traditional approach, averaging samples from $q(\\text{signal}|\\text{observation})$ to estimate $\\mathbb{E}_{q(\\text{signal}|\\text{observation})}[\\text{signal}]$, for each observation in our inference set."
   ]
  },
  {
   "cell_type": "code",
   "execution_count": null,
   "metadata": {},
   "outputs": [],
   "source": [
    "n_samples = 100  # Number of samples to average\n",
    "batch_size = 1  # Number of samples to predict at a time\n",
    "\n",
    "backbone.vae.to(device)\n",
    "\n",
    "mmses = []\n",
    "for i in tqdm(range(observation.shape[0])):\n",
    "    img = torch.from_numpy(observation[i : i + 1]).to(device)\n",
    "\n",
    "    samples = backbone.predict_vae(img, n_samples=n_samples, batch_size=batch_size)\n",
    "    samples = samples.cpu().numpy()\n",
    "    mmse = samples.mean(0, keepdims=True)\n",
    "    mmses.append(mmse)\n",
    "mmses = np.concatenate(mmses, axis=0)"
   ]
  },
  {
   "cell_type": "markdown",
   "metadata": {},
   "source": [
    "In this cell, the Direct Denoiser estimates $\\mathbb{E}_{q(\\text{signal}|\\text{observation})}[\\text{signal}]$ for each observation in our inference set in a single pass."
   ]
  },
  {
   "cell_type": "code",
   "execution_count": null,
   "metadata": {},
   "outputs": [],
   "source": [
    "backbone.direct_denoiser.to(device)\n",
    "\n",
    "direct_estimates = []\n",
    "for i in tqdm(range(observation.shape[0])):\n",
    "    img = torch.from_numpy(observation[i : i + 1]).to(device)\n",
    "\n",
    "    direct_estimate = backbone.predict_direct_denoiser(img)\n",
    "    direct_estimate = direct_estimate.cpu().numpy()\n",
    "    direct_estimates.append(direct_estimate)\n",
    "direct_estimates = np.concatenate(direct_estimates, axis=0)"
   ]
  },
  {
   "cell_type": "code",
   "execution_count": null,
   "metadata": {},
   "outputs": [],
   "source": [
    "direct_estimates[0].shape"
   ]
  },
  {
   "cell_type": "markdown",
   "metadata": {},
   "source": [
    "# Compute PSNR\n",
    "The higher the PSNR, the better the denoising performance is.\n",
    "PSNR is computed using the formula: \n",
    "\n",
    "```PSNR = 20 * log(rangePSNR) - 10 * log(mse)``` <br> \n",
    "where ```mse = mean((gt - img)**2)```, ```gt``` is ground truth image and ```img``` is the prediction. All logarithms are with base 10.<br>\n",
    "rangePSNR = max(```gt```)-min(```gt```) for as used in this [paper](https://ieeexplore.ieee.org/abstract/document/9098612/)."
   ]
  },
  {
   "cell_type": "code",
   "execution_count": null,
   "metadata": {},
   "outputs": [],
   "source": [
    "# PSNR of results from old approach\n",
    "range_psnr = np.max(signal[0]) - np.min(signal[0])\n",
    "old_psnrs = []\n",
    "for i in range(len(mmses)):\n",
    "    psnr = PSNR(signal[i], mmses[i], range_psnr)\n",
    "    old_psnrs.append(psnr)\n",
    "    print(\"image:\", i, \"PSNR:\", psnr, \"Mean PSNR:\", np.mean(old_psnrs))"
   ]
  },
  {
   "cell_type": "code",
   "execution_count": null,
   "metadata": {},
   "outputs": [],
   "source": [
    "# PSNR of results from new approach\n",
    "range_psnr = np.max(signal[0]) - np.min(signal[0])\n",
    "new_psnrs = []\n",
    "for i in range(len(mmses)):\n",
    "    psnr = PSNR(signal[i], direct_estimates[i], range_psnr)\n",
    "    new_psnrs.append(psnr)\n",
    "    print(\"image:\", i, \"PSNR:\", psnr, \"Mean PSNR:\", np.mean(new_psnrs))"
   ]
  },
  {
   "cell_type": "markdown",
   "metadata": {},
   "source": [
    "### Visualize results"
   ]
  },
  {
   "cell_type": "code",
   "execution_count": null,
   "metadata": {},
   "outputs": [],
   "source": [
    "idx = 0\n",
    "img_patch = (0, slice(200, 300), slice(200, 300))\n",
    "\n",
    "fig, ax = plt.subplots(2, 2)\n",
    "\n",
    "ax[0, 0].imshow(observation[idx][img_patch], cmap=\"magma\")\n",
    "ax[0, 0].set_title(\"Observation\")\n",
    "ax[0, 0].axis(\"off\")\n",
    "\n",
    "ax[0, 1].imshow(signal[idx][img_patch], cmap=\"magma\")\n",
    "ax[0, 1].set_title(\"Ground truth\")\n",
    "ax[0, 1].axis(\"off\")\n",
    "\n",
    "ax[1, 0].imshow(mmses[idx][img_patch], cmap=\"magma\")\n",
    "ax[1, 0].set_title(\"Denoised (old approach)\")\n",
    "ax[1, 0].axis(\"off\")\n",
    "\n",
    "ax[1, 1].imshow(direct_estimates[idx][img_patch], cmap=\"magma\")\n",
    "ax[1, 1].set_title(\"Denoised (new approach)\")\n",
    "ax[1, 1].axis(\"off\")\n",
    "\n",
    "plt.tight_layout()"
   ]
  },
  {
   "cell_type": "code",
   "execution_count": null,
   "metadata": {},
   "outputs": [],
   "source": []
  }
 ],
 "metadata": {
  "kernelspec": {
   "display_name": "ml",
   "language": "python",
   "name": "python3"
  },
  "language_info": {
   "codemirror_mode": {
    "name": "ipython",
    "version": 3
   },
   "file_extension": ".py",
   "mimetype": "text/x-python",
   "name": "python",
   "nbconvert_exporter": "python",
   "pygments_lexer": "ipython3",
   "version": "3.10.0"
  }
 },
 "nbformat": 4,
 "nbformat_minor": 2
}
